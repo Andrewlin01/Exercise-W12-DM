{
 "cells": [
  {
   "cell_type": "markdown",
   "metadata": {},
   "source": [
    "# W12 - Exercise\n",
    "\n",
    "use the dataset __healthcare_dataset__ for this exercise\n",
    "\n",
    "Column details: <br>\n",
    "- **Name**: This column represents the name of the patient associated with the healthcare record. <br>\n",
    "- **Age**: The age of the patient at the time of admission, expressed in years. <br>\n",
    "- **Gender**: Indicates the gender of the patient, either \"Male\" or \"Female.\"<br>\n",
    "- **Blood** Type: The patient's blood type, which can be one of the common blood types (e.g., \"A+\", \"O-\", etc.).<br>\n",
    "- **Medical** Condition: This column specifies the primary medical condition or diagnosis associated with the patient, such as \"Diabetes,\" \"Hypertension,\" \"Asthma,\" and more.<br>\n",
    "- **Date of Admission**: The date on which the patient was admitted to the healthcare facility.<br>\n",
    "- **Doctor**: The name of the doctor responsible for the patient's care during their admission.<br>\n",
    "- **Hospital**: Identifies the healthcare facility or hospital where the patient was admitted.<br>\n",
    "- **Insurance Provider**: This column indicates the patient's insurance provider, which can be one of several options, including \"Aetna,\" \"Blue Cross,\" \"Cigna,\" \"UnitedHealthcare,\" and \"Medicare.\"<br>\n",
    "- **Billing Amount**: The amount of money billed for the patient's healthcare services during their admission. This is expressed as a floating-point number.<br>\n",
    "- **Room Number**: The room number where the patient was accommodated during their admission.<br>\n",
    "- **Admission Type**: Specifies the type of admission, which can be \"Emergency,\" \"Elective,\" or \"Urgent,\" reflecting the circumstances of the admission.<br>\n",
    "- **Discharge Date**: The date on which the patient was discharged from the healthcare facility, based on the admission date and a random number of days within a realistic range.<br>\n",
    "- **Medication**: Identifies a medication prescribed or administered to the patient during their admission. Examples include \"Aspirin,\" \"Ibuprofen,\" \"Penicillin,\" \"Paracetamol,\" and \"Lipitor.\"<br>\n",
    "- **Test Results**: Describes the results of a medical test conducted during the patient's admission. Possible values include \"Normal,\" \"Abnormal,\" or \"Inconclusive,\" indicating the outcome of the test.<br>"
   ]
  },
  {
   "cell_type": "markdown",
   "metadata": {},
   "source": [
    "This exercise is applicable to multiple machine learning algorithms. Create EDA to visualize data and results and explore as far as you can.\n",
    "Task:\n",
    "1. Data Cleaning, Transformation\n",
    "2. Visualization (EDA)\n",
    "3. Use at least one machine learning techniques (Regression, Classification, Clustering)\n",
    "4. Use different modelling algorithm to compare results (XGBoost, KNN, Hierarchical, Apriori, Linear, Logistic, etc)\n",
    "\n",
    "This exercise is to test your willingness to explore, critical thinking and the knowledge when to use what algorithms to achieve a purpose. "
   ]
  },
  {
   "cell_type": "code",
   "execution_count": 46,
   "metadata": {},
   "outputs": [
    {
     "data": {
      "text/html": [
       "<div>\n",
       "<style scoped>\n",
       "    .dataframe tbody tr th:only-of-type {\n",
       "        vertical-align: middle;\n",
       "    }\n",
       "\n",
       "    .dataframe tbody tr th {\n",
       "        vertical-align: top;\n",
       "    }\n",
       "\n",
       "    .dataframe thead th {\n",
       "        text-align: right;\n",
       "    }\n",
       "</style>\n",
       "<table border=\"1\" class=\"dataframe\">\n",
       "  <thead>\n",
       "    <tr style=\"text-align: right;\">\n",
       "      <th></th>\n",
       "      <th>Name</th>\n",
       "      <th>Age</th>\n",
       "      <th>Gender</th>\n",
       "      <th>Blood Type</th>\n",
       "      <th>Medical Condition</th>\n",
       "      <th>Date of Admission</th>\n",
       "      <th>Doctor</th>\n",
       "      <th>Hospital</th>\n",
       "      <th>Insurance Provider</th>\n",
       "      <th>Billing Amount</th>\n",
       "      <th>Room Number</th>\n",
       "      <th>Admission Type</th>\n",
       "      <th>Discharge Date</th>\n",
       "      <th>Medication</th>\n",
       "      <th>Test Results</th>\n",
       "    </tr>\n",
       "  </thead>\n",
       "  <tbody>\n",
       "    <tr>\n",
       "      <th>0</th>\n",
       "      <td>Tiffany Ramirez</td>\n",
       "      <td>81</td>\n",
       "      <td>Female</td>\n",
       "      <td>O-</td>\n",
       "      <td>Diabetes</td>\n",
       "      <td>2022-11-17</td>\n",
       "      <td>Patrick Parker</td>\n",
       "      <td>Wallace-Hamilton</td>\n",
       "      <td>Medicare</td>\n",
       "      <td>37490.983364</td>\n",
       "      <td>146</td>\n",
       "      <td>Elective</td>\n",
       "      <td>2022-12-01</td>\n",
       "      <td>Aspirin</td>\n",
       "      <td>Inconclusive</td>\n",
       "    </tr>\n",
       "    <tr>\n",
       "      <th>1</th>\n",
       "      <td>Ruben Burns</td>\n",
       "      <td>35</td>\n",
       "      <td>Male</td>\n",
       "      <td>O+</td>\n",
       "      <td>Asthma</td>\n",
       "      <td>2023-06-01</td>\n",
       "      <td>Diane Jackson</td>\n",
       "      <td>Burke, Griffin and Cooper</td>\n",
       "      <td>UnitedHealthcare</td>\n",
       "      <td>47304.064845</td>\n",
       "      <td>404</td>\n",
       "      <td>Emergency</td>\n",
       "      <td>2023-06-15</td>\n",
       "      <td>Lipitor</td>\n",
       "      <td>Normal</td>\n",
       "    </tr>\n",
       "    <tr>\n",
       "      <th>2</th>\n",
       "      <td>Chad Byrd</td>\n",
       "      <td>61</td>\n",
       "      <td>Male</td>\n",
       "      <td>B-</td>\n",
       "      <td>Obesity</td>\n",
       "      <td>2019-01-09</td>\n",
       "      <td>Paul Baker</td>\n",
       "      <td>Walton LLC</td>\n",
       "      <td>Medicare</td>\n",
       "      <td>36874.896997</td>\n",
       "      <td>292</td>\n",
       "      <td>Emergency</td>\n",
       "      <td>2019-02-08</td>\n",
       "      <td>Lipitor</td>\n",
       "      <td>Normal</td>\n",
       "    </tr>\n",
       "    <tr>\n",
       "      <th>3</th>\n",
       "      <td>Antonio Frederick</td>\n",
       "      <td>49</td>\n",
       "      <td>Male</td>\n",
       "      <td>B-</td>\n",
       "      <td>Asthma</td>\n",
       "      <td>2020-05-02</td>\n",
       "      <td>Brian Chandler</td>\n",
       "      <td>Garcia Ltd</td>\n",
       "      <td>Medicare</td>\n",
       "      <td>23303.322092</td>\n",
       "      <td>480</td>\n",
       "      <td>Urgent</td>\n",
       "      <td>2020-05-03</td>\n",
       "      <td>Penicillin</td>\n",
       "      <td>Abnormal</td>\n",
       "    </tr>\n",
       "    <tr>\n",
       "      <th>4</th>\n",
       "      <td>Mrs. Brandy Flowers</td>\n",
       "      <td>51</td>\n",
       "      <td>Male</td>\n",
       "      <td>O-</td>\n",
       "      <td>Arthritis</td>\n",
       "      <td>2021-07-09</td>\n",
       "      <td>Dustin Griffin</td>\n",
       "      <td>Jones, Brown and Murray</td>\n",
       "      <td>UnitedHealthcare</td>\n",
       "      <td>18086.344184</td>\n",
       "      <td>477</td>\n",
       "      <td>Urgent</td>\n",
       "      <td>2021-08-02</td>\n",
       "      <td>Paracetamol</td>\n",
       "      <td>Normal</td>\n",
       "    </tr>\n",
       "  </tbody>\n",
       "</table>\n",
       "</div>"
      ],
      "text/plain": [
       "                  Name  Age  Gender Blood Type Medical Condition  \\\n",
       "0      Tiffany Ramirez   81  Female         O-          Diabetes   \n",
       "1          Ruben Burns   35    Male         O+            Asthma   \n",
       "2            Chad Byrd   61    Male         B-           Obesity   \n",
       "3    Antonio Frederick   49    Male         B-            Asthma   \n",
       "4  Mrs. Brandy Flowers   51    Male         O-         Arthritis   \n",
       "\n",
       "  Date of Admission          Doctor                   Hospital  \\\n",
       "0        2022-11-17  Patrick Parker           Wallace-Hamilton   \n",
       "1        2023-06-01   Diane Jackson  Burke, Griffin and Cooper   \n",
       "2        2019-01-09      Paul Baker                 Walton LLC   \n",
       "3        2020-05-02  Brian Chandler                 Garcia Ltd   \n",
       "4        2021-07-09  Dustin Griffin    Jones, Brown and Murray   \n",
       "\n",
       "  Insurance Provider  Billing Amount  Room Number Admission Type  \\\n",
       "0           Medicare    37490.983364          146       Elective   \n",
       "1   UnitedHealthcare    47304.064845          404      Emergency   \n",
       "2           Medicare    36874.896997          292      Emergency   \n",
       "3           Medicare    23303.322092          480         Urgent   \n",
       "4   UnitedHealthcare    18086.344184          477         Urgent   \n",
       "\n",
       "  Discharge Date   Medication  Test Results  \n",
       "0     2022-12-01      Aspirin  Inconclusive  \n",
       "1     2023-06-15      Lipitor        Normal  \n",
       "2     2019-02-08      Lipitor        Normal  \n",
       "3     2020-05-03   Penicillin      Abnormal  \n",
       "4     2021-08-02  Paracetamol        Normal  "
      ]
     },
     "execution_count": 46,
     "metadata": {},
     "output_type": "execute_result"
    }
   ],
   "source": [
    "#Load dataset\n",
    "df = pd.read_csv(r\"C:\\Users\\Andrew Lin\\Downloads\\DM_W12\\Dataset\\healthcare_dataset.csv\", sep=',')\n",
    "df.head()"
   ]
  },
  {
   "cell_type": "markdown",
   "metadata": {},
   "source": [
    "# 1. Data Cleaning, Transformation"
   ]
  },
  {
   "cell_type": "code",
   "execution_count": 47,
   "metadata": {},
   "outputs": [
    {
     "data": {
      "text/html": [
       "<div>\n",
       "<style scoped>\n",
       "    .dataframe tbody tr th:only-of-type {\n",
       "        vertical-align: middle;\n",
       "    }\n",
       "\n",
       "    .dataframe tbody tr th {\n",
       "        vertical-align: top;\n",
       "    }\n",
       "\n",
       "    .dataframe thead th {\n",
       "        text-align: right;\n",
       "    }\n",
       "</style>\n",
       "<table border=\"1\" class=\"dataframe\">\n",
       "  <thead>\n",
       "    <tr style=\"text-align: right;\">\n",
       "      <th></th>\n",
       "      <th>Age</th>\n",
       "      <th>Gender</th>\n",
       "      <th>Blood Type</th>\n",
       "      <th>Medical Condition</th>\n",
       "      <th>Medication</th>\n",
       "      <th>Test Results</th>\n",
       "    </tr>\n",
       "  </thead>\n",
       "  <tbody>\n",
       "    <tr>\n",
       "      <th>0</th>\n",
       "      <td>81</td>\n",
       "      <td>0</td>\n",
       "      <td>O-</td>\n",
       "      <td>Diabetes</td>\n",
       "      <td>Aspirin</td>\n",
       "      <td>1</td>\n",
       "    </tr>\n",
       "    <tr>\n",
       "      <th>1</th>\n",
       "      <td>35</td>\n",
       "      <td>1</td>\n",
       "      <td>O+</td>\n",
       "      <td>Asthma</td>\n",
       "      <td>Lipitor</td>\n",
       "      <td>2</td>\n",
       "    </tr>\n",
       "    <tr>\n",
       "      <th>2</th>\n",
       "      <td>61</td>\n",
       "      <td>1</td>\n",
       "      <td>B-</td>\n",
       "      <td>Obesity</td>\n",
       "      <td>Lipitor</td>\n",
       "      <td>2</td>\n",
       "    </tr>\n",
       "    <tr>\n",
       "      <th>3</th>\n",
       "      <td>49</td>\n",
       "      <td>1</td>\n",
       "      <td>B-</td>\n",
       "      <td>Asthma</td>\n",
       "      <td>Penicillin</td>\n",
       "      <td>0</td>\n",
       "    </tr>\n",
       "    <tr>\n",
       "      <th>4</th>\n",
       "      <td>51</td>\n",
       "      <td>1</td>\n",
       "      <td>O-</td>\n",
       "      <td>Arthritis</td>\n",
       "      <td>Paracetamol</td>\n",
       "      <td>2</td>\n",
       "    </tr>\n",
       "    <tr>\n",
       "      <th>...</th>\n",
       "      <td>...</td>\n",
       "      <td>...</td>\n",
       "      <td>...</td>\n",
       "      <td>...</td>\n",
       "      <td>...</td>\n",
       "      <td>...</td>\n",
       "    </tr>\n",
       "    <tr>\n",
       "      <th>9995</th>\n",
       "      <td>83</td>\n",
       "      <td>1</td>\n",
       "      <td>A+</td>\n",
       "      <td>Obesity</td>\n",
       "      <td>Ibuprofen</td>\n",
       "      <td>0</td>\n",
       "    </tr>\n",
       "    <tr>\n",
       "      <th>9996</th>\n",
       "      <td>47</td>\n",
       "      <td>0</td>\n",
       "      <td>AB+</td>\n",
       "      <td>Arthritis</td>\n",
       "      <td>Ibuprofen</td>\n",
       "      <td>2</td>\n",
       "    </tr>\n",
       "    <tr>\n",
       "      <th>9997</th>\n",
       "      <td>54</td>\n",
       "      <td>1</td>\n",
       "      <td>B-</td>\n",
       "      <td>Arthritis</td>\n",
       "      <td>Ibuprofen</td>\n",
       "      <td>2</td>\n",
       "    </tr>\n",
       "    <tr>\n",
       "      <th>9998</th>\n",
       "      <td>84</td>\n",
       "      <td>1</td>\n",
       "      <td>A+</td>\n",
       "      <td>Arthritis</td>\n",
       "      <td>Penicillin</td>\n",
       "      <td>2</td>\n",
       "    </tr>\n",
       "    <tr>\n",
       "      <th>9999</th>\n",
       "      <td>20</td>\n",
       "      <td>1</td>\n",
       "      <td>B-</td>\n",
       "      <td>Arthritis</td>\n",
       "      <td>Penicillin</td>\n",
       "      <td>0</td>\n",
       "    </tr>\n",
       "  </tbody>\n",
       "</table>\n",
       "<p>10000 rows × 6 columns</p>\n",
       "</div>"
      ],
      "text/plain": [
       "      Age  Gender Blood Type Medical Condition   Medication  Test Results\n",
       "0      81       0         O-          Diabetes      Aspirin             1\n",
       "1      35       1         O+            Asthma      Lipitor             2\n",
       "2      61       1         B-           Obesity      Lipitor             2\n",
       "3      49       1         B-            Asthma   Penicillin             0\n",
       "4      51       1         O-         Arthritis  Paracetamol             2\n",
       "...   ...     ...        ...               ...          ...           ...\n",
       "9995   83       1         A+           Obesity    Ibuprofen             0\n",
       "9996   47       0        AB+         Arthritis    Ibuprofen             2\n",
       "9997   54       1         B-         Arthritis    Ibuprofen             2\n",
       "9998   84       1         A+         Arthritis   Penicillin             2\n",
       "9999   20       1         B-         Arthritis   Penicillin             0\n",
       "\n",
       "[10000 rows x 6 columns]"
      ]
     },
     "metadata": {},
     "output_type": "display_data"
    }
   ],
   "source": [
    "import pandas as pd\n",
    "from sklearn.preprocessing import LabelEncoder\n",
    "\n",
    "# Check for Missing Values\n",
    "df.dropna(inplace=True)\n",
    "\n",
    "# Data Types\n",
    "date_columns = ['Date of Admission', 'Discharge Date']\n",
    "for col in date_columns:\n",
    "    if col in df.columns:\n",
    "        df[col] = pd.to_datetime(df[col])\n",
    "\n",
    "# Handle Categorical Variables\n",
    "categorical_columns = ['Gender', 'Admission Type', 'Test Results']\n",
    "le = LabelEncoder()\n",
    "for col in categorical_columns:\n",
    "    if col in df.columns:\n",
    "        df[col] = le.fit_transform(df[col])\n",
    "\n",
    "# Drop unnecessary columns\n",
    "columns_to_drop = ['Name', 'Date of Admission', 'Discharge Date', 'Doctor', 'Hospital', 'Insurance Provider', 'Billing Amount', 'Room Number', 'Admission Type']\n",
    "df = df.drop(columns=columns_to_drop, errors='ignore')\n",
    "\n",
    "display(df)"
   ]
  },
  {
   "cell_type": "code",
   "execution_count": 39,
   "metadata": {},
   "outputs": [
    {
     "data": {
      "text/plain": [
       "Feature1             0\n",
       "Feature2             0\n",
       "Target_reg           0\n",
       "Target_class         0\n",
       "Blood Type           0\n",
       "Medical Condition    0\n",
       "Medication           0\n",
       "dtype: int64"
      ]
     },
     "execution_count": 39,
     "metadata": {},
     "output_type": "execute_result"
    }
   ],
   "source": [
    "# Cek missing value\n",
    "df.isna().sum()"
   ]
  },
  {
   "cell_type": "markdown",
   "metadata": {},
   "source": [
    "# 2. Visualization (EDA)"
   ]
  },
  {
   "cell_type": "code",
   "execution_count": 28,
   "metadata": {},
   "outputs": [
    {
     "name": "stdout",
     "output_type": "stream",
     "text": [
      "       Feature1  Target_reg  Target_class\n",
      "count  5.000000    5.000000      5.000000\n",
      "mean   3.000000   30.000000      0.400000\n",
      "std    1.581139   15.811388      0.547723\n",
      "min    1.000000   10.000000      0.000000\n",
      "25%    2.000000   20.000000      0.000000\n",
      "50%    3.000000   30.000000      0.000000\n",
      "75%    4.000000   40.000000      1.000000\n",
      "max    5.000000   50.000000      1.000000\n"
     ]
    }
   ],
   "source": [
    "print(df.describe())"
   ]
  },
  {
   "cell_type": "code",
   "execution_count": 35,
   "metadata": {},
   "outputs": [
    {
     "data": {
      "image/png": "[encoded data removed]",
      "text/plain": [
       "<Figure size 432x288 with 1 Axes>"
      ]
     },
     "metadata": {
      "needs_background": "light"
     },
     "output_type": "display_data"
    },
    {
     "data": {
      "image/png": "[encoded data removed]",
      "text/plain": [
       "<Figure size 432x288 with 1 Axes>"
      ]
     },
     "metadata": {
      "needs_background": "light"
     },
     "output_type": "display_data"
    }
   ],
   "source": [
    "# Distribution Plots\n",
    "sns.histplot(df['Age'], bins=20, kde=True)\n",
    "plt.show()\n",
    "sns.countplot(x='Medical Condition', data=df)\n",
    "plt.show()"
   ]
  },
  {
   "cell_type": "code",
   "execution_count": 34,
   "metadata": {},
   "outputs": [
    {
     "data": {
      "image/png": "[encoded data removed]",
      "text/plain": [
       "<Figure size 432x288 with 2 Axes>"
      ]
     },
     "metadata": {
      "needs_background": "light"
     },
     "output_type": "display_data"
    }
   ],
   "source": [
    "# Correlation Analysis\n",
    "correlation_matrix = df[['Age', 'Medical Condition', 'Test Results']].corr()\n",
    "sns.heatmap(correlation_matrix, annot=True, cmap='coolwarm', vmin=-1, vmax=1)\n",
    "plt.show()"
   ]
  },
  {
   "cell_type": "markdown",
   "metadata": {},
   "source": [
    "# 3. Use at least one machine learning techniques (Regression, Classification, Clustering)"
   ]
  },
  {
   "cell_type": "code",
   "execution_count": 38,
   "metadata": {},
   "outputs": [
    {
     "name": "stdout",
     "output_type": "stream",
     "text": [
      "Regression R-squared: -0.0007409894227041747\n"
     ]
    }
   ],
   "source": [
    "#Regression\n",
    "X_reg = df.drop(['Medication'], axis=1)\n",
    "y_reg = df['Medication']\n",
    "label_encoder = LabelEncoder()\n",
    "y_reg_encoded = label_encoder.fit_transform(y_reg)\n",
    "X_reg_train, X_reg_test, y_reg_train, y_reg_test = train_test_split(X_reg, y_reg_encoded, test_size=0.2, random_state=42)\n",
    "categorical_cols = ['Blood Type', 'Medical Condition']\n",
    "onehot_encoder = OneHotEncoder(sparse=False, handle_unknown='ignore')\n",
    "X_reg_train_encoded = pd.get_dummies(X_reg_train, columns=categorical_cols)\n",
    "X_reg_test_encoded = pd.get_dummies(X_reg_test, columns=categorical_cols)\n",
    "reg_model = LinearRegression()\n",
    "reg_model.fit(X_reg_train_encoded, y_reg_train)\n",
    "reg_preds = reg_model.predict(X_reg_test_encoded)\n",
    "reg_r2 = r2_score(y_reg_test, reg_preds)\n",
    "print(f'Regression R-squared: {reg_r2}')\n",
    "\n",
    "\n"
   ]
  },
  {
   "cell_type": "code",
   "execution_count": 23,
   "metadata": {},
   "outputs": [
    {
     "name": "stdout",
     "output_type": "stream",
     "text": [
      "Classification Accuracy: 0.6675\n",
      "Classification Precision: 0.6734430574825551\n",
      "Classification Recall: 0.6675\n"
     ]
    }
   ],
   "source": [
    "#Classification\n",
    "X_class = pd.get_dummies(df.drop(['Test Results'], axis=1)) \n",
    "y_class = df['Test Results']\n",
    "X_class_train, X_class_test, y_class_train, y_class_test = train_test_split(X_class, y_class, test_size=0.2, random_state=42)\n",
    "class_model = RandomForestClassifier()\n",
    "class_model.fit(X_class_train, y_class_train)\n",
    "class_preds = class_model.predict(X_class_test)\n",
    "class_accuracy = accuracy_score(y_class_test, class_preds)\n",
    "class_precision = precision_score(y_class_test, class_preds, average='weighted')\n",
    "class_recall = recall_score(y_class_test, class_preds, average='weighted')\n",
    "print(f'Classification Accuracy: {class_accuracy}')\n",
    "print(f'Classification Precision: {class_precision}')\n",
    "print(f'Classification Recall: {class_recall}')"
   ]
  },
  {
   "cell_type": "code",
   "execution_count": 22,
   "metadata": {},
   "outputs": [
    {
     "data": {
      "text/html": [
       "<div>\n",
       "<style scoped>\n",
       "    .dataframe tbody tr th:only-of-type {\n",
       "        vertical-align: middle;\n",
       "    }\n",
       "\n",
       "    .dataframe tbody tr th {\n",
       "        vertical-align: top;\n",
       "    }\n",
       "\n",
       "    .dataframe thead th {\n",
       "        text-align: right;\n",
       "    }\n",
       "</style>\n",
       "<table border=\"1\" class=\"dataframe\">\n",
       "  <thead>\n",
       "    <tr style=\"text-align: right;\">\n",
       "      <th></th>\n",
       "      <th>Mean Age</th>\n",
       "      <th>Mean Gender</th>\n",
       "      <th>Mode Blood Type</th>\n",
       "      <th>Mode Medical Condition</th>\n",
       "      <th>Mode Medication</th>\n",
       "      <th>Mean Test Results</th>\n",
       "      <th>Count</th>\n",
       "    </tr>\n",
       "    <tr>\n",
       "      <th>Cluster</th>\n",
       "      <th></th>\n",
       "      <th></th>\n",
       "      <th></th>\n",
       "      <th></th>\n",
       "      <th></th>\n",
       "      <th></th>\n",
       "      <th></th>\n",
       "    </tr>\n",
       "  </thead>\n",
       "  <tbody>\n",
       "    <tr>\n",
       "      <th>0</th>\n",
       "      <td>56.178413</td>\n",
       "      <td>0.484317</td>\n",
       "      <td>A+</td>\n",
       "      <td>Cancer</td>\n",
       "      <td>Penicillin</td>\n",
       "      <td>1.602768</td>\n",
       "      <td>5420</td>\n",
       "    </tr>\n",
       "    <tr>\n",
       "      <th>1</th>\n",
       "      <td>31.247404</td>\n",
       "      <td>0.510015</td>\n",
       "      <td>O+</td>\n",
       "      <td>Hypertension</td>\n",
       "      <td>Lipitor</td>\n",
       "      <td>0.416914</td>\n",
       "      <td>2696</td>\n",
       "    </tr>\n",
       "    <tr>\n",
       "      <th>2</th>\n",
       "      <td>66.768577</td>\n",
       "      <td>0.490977</td>\n",
       "      <td>AB-</td>\n",
       "      <td>Asthma</td>\n",
       "      <td>Penicillin</td>\n",
       "      <td>0.000000</td>\n",
       "      <td>1884</td>\n",
       "    </tr>\n",
       "  </tbody>\n",
       "</table>\n",
       "</div>"
      ],
      "text/plain": [
       "          Mean Age  Mean Gender Mode Blood Type Mode Medical Condition  \\\n",
       "Cluster                                                                  \n",
       "0        56.178413     0.484317              A+                 Cancer   \n",
       "1        31.247404     0.510015              O+           Hypertension   \n",
       "2        66.768577     0.490977             AB-                 Asthma   \n",
       "\n",
       "        Mode Medication  Mean Test Results  Count  \n",
       "Cluster                                            \n",
       "0            Penicillin           1.602768   5420  \n",
       "1               Lipitor           0.416914   2696  \n",
       "2            Penicillin           0.000000   1884  "
      ]
     },
     "metadata": {},
     "output_type": "display_data"
    }
   ],
   "source": [
    "# Clustering\n",
    "scaled_df_hie = StandardScaler().fit_transform(df[['Age', 'Test Results']])\n",
    "clustering = AgglomerativeClustering(n_clusters=3, affinity='euclidean', linkage='ward')\n",
    "cluster_labels = clustering.fit_predict(scaled_df_hie)\n",
    "df['Cluster'] = cluster_labels\n",
    "numeric_cols = df.select_dtypes(include=[int, float]).columns\n",
    "categorical_cols = df.select_dtypes(include=[object]).columns\n",
    "cluster_stats = df.groupby(\"Cluster\").agg({\n",
    "    \"Age\": \"mean\",\n",
    "    \"Gender\": \"mean\",\n",
    "    \"Blood Type\": lambda x: mode(x)[0][0],\n",
    "    \"Medical Condition\": lambda x: mode(x)[0][0],\n",
    "    \"Medication\": lambda x: mode(x)[0][0],\n",
    "    \"Test Results\": \"mean\",\n",
    "    \"Cluster\": \"count\"\n",
    "})\n",
    "cluster_stats.columns = [\n",
    "    \"Mean Age\", \n",
    "    \"Mean Gender\", \n",
    "    \"Mode Blood Type\", \n",
    "    \"Mode Medical Condition\", \n",
    "    \"Mode Medication\", \n",
    "    \"Mean Test Results\", \n",
    "    \"Count\"\n",
    "]\n",
    "display(cluster_stats)"
   ]
  },
  {
   "cell_type": "markdown",
   "metadata": {},
   "source": [
    "# 4. Use different modelling algorithm to compare results (XGBoost, KNN, Hierarchical, Apriori, Linear, Logistic, etc)"
   ]
  },
  {
   "cell_type": "code",
   "execution_count": 21,
   "metadata": {},
   "outputs": [],
   "source": [
    "import pandas as pd\n",
    "import xgboost as xgb\n",
    "from sklearn.metrics import mean_squared_error, accuracy_score\n",
    "from sklearn.neighbors import KNeighborsClassifier\n",
    "from sklearn.preprocessing import StandardScaler\n",
    "from scipy.cluster.hierarchy import linkage, dendrogram\n",
    "from mlxtend.frequent_patterns import apriori, association_rules\n",
    "import matplotlib.pyplot as plt\n",
    "\n",
    "# XGBoost Regression\n",
    "X_reg_train_encoded = pd.get_dummies(X_reg_train, drop_first=True)\n",
    "X_reg_test_encoded = pd.get_dummies(X_reg_test, drop_first=True)"
   ]
  },
  {
   "cell_type": "code",
   "execution_count": 22,
   "metadata": {},
   "outputs": [
    {
     "name": "stdout",
     "output_type": "stream",
     "text": [
      "XGBoost Regression Mean Squared Error: 99.95453397766687\n"
     ]
    }
   ],
   "source": [
    "# Align columns to ensure consistency\n",
    "X_reg_train_encoded, X_reg_test_encoded = X_reg_train_encoded.align(X_reg_test_encoded, join='outer', axis=1, fill_value=0)\n",
    "xgb_reg_model = xgb.XGBRegressor()\n",
    "xgb_reg_model.fit(X_reg_train_encoded, y_reg_train)\n",
    "xgb_reg_preds = xgb_reg_model.predict(X_reg_test_encoded)\n",
    "xgb_reg_mse = mean_squared_error(y_reg_test, xgb_reg_preds)\n",
    "print(f'XGBoost Regression Mean Squared Error: {xgb_reg_mse}')"
   ]
  },
  {
   "cell_type": "code",
   "execution_count": 23,
   "metadata": {},
   "outputs": [],
   "source": [
    "# XGBoost Classification\n",
    "X_class_train_encoded = pd.get_dummies(X_class_train, drop_first=True)\n",
    "X_class_test_encoded = pd.get_dummies(X_class_test, drop_first=True)\n"
   ]
  },
  {
   "cell_type": "code",
   "execution_count": 24,
   "metadata": {},
   "outputs": [
    {
     "name": "stdout",
     "output_type": "stream",
     "text": [
      "XGBoost Classification Accuracy: 0.000\n"
     ]
    }
   ],
   "source": [
    "# Align columns to ensure consistency\n",
    "X_class_train_encoded, X_class_test_encoded = X_class_train_encoded.align(X_class_test_encoded, join='outer', axis=1, fill_value=0)\n",
    "xgb_class_model = xgb.XGBClassifier()\n",
    "xgb_class_model.fit(X_class_train_encoded, y_class_train)\n",
    "xgb_class_preds = xgb_class_model.predict(X_class_test_encoded)\n",
    "xgb_class_accuracy = accuracy_score(y_class_test, xgb_class_preds)\n",
    "print(f'XGBoost Classification Accuracy: {xgb_class_accuracy:.3f}')"
   ]
  },
  {
   "cell_type": "code",
   "execution_count": 25,
   "metadata": {},
   "outputs": [
    {
     "name": "stdout",
     "output_type": "stream",
     "text": [
      "KNN Classification Accuracy: 0.0000\n"
     ]
    }
   ],
   "source": [
    "# KNN Classification\n",
    "knn_model = KNeighborsClassifier(n_neighbors=min(5, len(X_class_train_encoded)))\n",
    "knn_model.fit(X_class_train_encoded, y_class_train)\n",
    "knn_preds = knn_model.predict(X_class_test_encoded)\n",
    "knn_accuracy = accuracy_score(y_class_test, knn_preds)\n",
    "print(f'KNN Classification Accuracy: {knn_accuracy:.4f}')\n"
   ]
  },
  {
   "cell_type": "code",
   "execution_count": 26,
   "metadata": {},
   "outputs": [
    {
     "data": {
      "image/png": "[encoded data removed]",
      "text/plain": [
       "<Figure size 432x288 with 1 Axes>"
      ]
     },
     "metadata": {
      "needs_background": "light"
     },
     "output_type": "display_data"
    }
   ],
   "source": [
    "# Hierarchical Clustering\n",
    "numeric_cols_for_clustering = df_encoded.select_dtypes(include=[int, float]).columns\n",
    "scaled_df_hie = StandardScaler().fit_transform(df_encoded[numeric_cols_for_clustering])\n",
    "hc_cluster = linkage(scaled_df_hie, method='ward')\n",
    "dendrogram(hc_cluster)\n",
    "plt.show()\n"
   ]
  },
  {
   "cell_type": "code",
   "execution_count": 27,
   "metadata": {},
   "outputs": [
    {
     "name": "stdout",
     "output_type": "stream",
     "text": [
      "Frequent Itemsets:\n",
      "   support      itemsets\n",
      "0      0.4     (Aspirin)\n",
      "1      0.4     (Lipitor)\n",
      "2      0.2  (Penicillin)\n",
      "\n",
      "Association Rules with Confidence >= 0.6:\n",
      "Empty DataFrame\n",
      "Columns: [antecedents, consequents, antecedent support, consequent support, support, confidence, lift, leverage, conviction, zhangs_metric]\n",
      "Index: []\n"
     ]
    },
    {
     "name": "stderr",
     "output_type": "stream",
     "text": [
      "C:\\Users\\Andrew Lin\\AppData\\Local\\Temp\\ipykernel_10072\\2499592885.py:3: SettingWithCopyWarning: \n",
      "A value is trying to be set on a copy of a slice from a DataFrame.\n",
      "Try using .loc[row_indexer,col_indexer] = value instead\n",
      "\n",
      "See the caveats in the documentation: https://pandas.pydata.org/pandas-docs/stable/user_guide/indexing.html#returning-a-view-versus-a-copy\n",
      "  df_apriori['Medication'] = df_apriori['Medication'].astype(str).str.strip()\n",
      "C:\\Users\\Andrew Lin\\anaconda3\\lib\\site-packages\\mlxtend\\frequent_patterns\\fpcommon.py:110: DeprecationWarning: DataFrames with non-bool types result in worse computationalperformance and their support might be discontinued in the future.Please use a DataFrame with bool type\n",
      "  warnings.warn(\n"
     ]
    }
   ],
   "source": [
    "# Apriori Algorithm\n",
    "df_apriori = df[['Medication']]\n",
    "df_apriori['Medication'] = df_apriori['Medication'].astype(str).str.strip()\n",
    "df_apriori_encoded = pd.get_dummies(df_apriori['Medication'])\n",
    "frequent_itemsets = apriori(df_apriori_encoded, min_support=0.2, use_colnames=True)\n",
    "print(\"Frequent Itemsets:\")\n",
    "print(frequent_itemsets)\n",
    "rules_confidence_06 = association_rules(frequent_itemsets, metric=\"confidence\", min_threshold=0.6)\n",
    "print(\"\\nAssociation Rules with Confidence >= 0.6:\")\n",
    "print(rules_confidence_06)"
   ]
  },
  {
   "cell_type": "code",
   "execution_count": null,
   "metadata": {},
   "outputs": [],
   "source": []
  }
 ],
 "metadata": {
  "kernelspec": {
   "display_name": "Python 3 (ipykernel)",
   "language": "python",
   "name": "python3"
  },
  "language_info": {
   "codemirror_mode": {
    "name": "ipython",
    "version": 3
   },
   "file_extension": ".py",
   "mimetype": "text/x-python",
   "name": "python",
   "nbconvert_exporter": "python",
   "pygments_lexer": "ipython3",
   "version": "3.9.12"
  }
 },
 "nbformat": 4,
 "nbformat_minor": 2
}
